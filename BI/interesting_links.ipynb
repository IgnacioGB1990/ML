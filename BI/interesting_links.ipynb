{
 "cells": [
  {
   "cell_type": "markdown",
   "metadata": {},
   "source": [
    "https://www.ted.com/talks/david_mccandless_the_beauty_of_data_visualization?language=en#t-150183\n",
    "\n",
    "https://artscience.blog/home/the-mccandless-method-of-data-presentation\n",
    "\n",
    "https://informationisbeautiful.net/\n",
    "\n",
    "https://informationisbeautiful.net/beautifulnews/"
   ]
  },
  {
   "cell_type": "markdown",
   "metadata": {},
   "source": []
  },
  {
   "cell_type": "markdown",
   "metadata": {},
   "source": []
  },
  {
   "cell_type": "code",
   "execution_count": null,
   "metadata": {},
   "outputs": [],
   "source": []
  }
 ],
 "metadata": {
  "language_info": {
   "name": "python"
  },
  "orig_nbformat": 4
 },
 "nbformat": 4,
 "nbformat_minor": 2
}
