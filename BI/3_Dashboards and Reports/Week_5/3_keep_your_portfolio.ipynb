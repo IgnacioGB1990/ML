{
 "cells": [
  {
   "cell_type": "markdown",
   "metadata": {},
   "source": [
    "## Keep your portfolio:\n",
    "\n",
    "\n",
    "**Personal:** Show who you are, what you are interested in, and what is important to you.\n",
    "\n",
    "**Simple:** Display your work with easy navigation and without cluttered pages.\n",
    "\n",
    "**Relevant:** Match your work to the skills included in job descriptions.\n",
    "\n",
    "**Presentable:** Emphasize quality in the samples you show.  \n",
    "\n",
    "**Unique:** Showcase your own work; cite sources of content to avoid plagiarism."
   ]
  },
  {
   "cell_type": "markdown",
   "metadata": {},
   "source": []
  },
  {
   "cell_type": "code",
   "execution_count": null,
   "metadata": {},
   "outputs": [],
   "source": []
  },
  {
   "cell_type": "markdown",
   "metadata": {},
   "source": []
  },
  {
   "cell_type": "code",
   "execution_count": null,
   "metadata": {},
   "outputs": [],
   "source": []
  }
 ],
 "metadata": {
  "language_info": {
   "name": "python"
  },
  "orig_nbformat": 4
 },
 "nbformat": 4,
 "nbformat_minor": 2
}
