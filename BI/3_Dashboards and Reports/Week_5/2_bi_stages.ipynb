{
 "cells": [
  {
   "cell_type": "markdown",
   "metadata": {},
   "source": [
    "\n",
    "### BI Process Summary:\n",
    "\n",
    "1. Project Strategy Documents\n",
    "2. Pipeline System\n",
    "3. Reporting Tables\n",
    "4. Dashboard Visualization"
   ]
  },
  {
   "cell_type": "markdown",
   "metadata": {},
   "source": [
    "### Share portfolio:\n",
    "\n",
    "1. Planning documents\n",
    "2. Data pipeline code\n",
    "3. Target table\n",
    "4. Dashboard\n",
    "5. Slide deck presentation"
   ]
  },
  {
   "cell_type": "markdown",
   "metadata": {},
   "source": []
  },
  {
   "cell_type": "markdown",
   "metadata": {},
   "source": []
  },
  {
   "cell_type": "markdown",
   "metadata": {},
   "source": []
  }
 ],
 "metadata": {
  "language_info": {
   "name": "python"
  },
  "orig_nbformat": 4
 },
 "nbformat": 4,
 "nbformat_minor": 2
}
