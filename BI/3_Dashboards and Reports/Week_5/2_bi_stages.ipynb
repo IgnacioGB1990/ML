{
 "cells": [
  {
   "cell_type": "markdown",
   "metadata": {},
   "source": [
    "\n",
    "### BI Process Summary:\n",
    "\n",
    "1. Project Strategy Documents\n",
    "2. Pipeline System\n",
    "3. Reporting Tables\n",
    "4. Dashboard Visualization"
   ]
  },
  {
   "cell_type": "markdown",
   "metadata": {},
   "source": []
  },
  {
   "cell_type": "markdown",
   "metadata": {},
   "source": []
  }
 ],
 "metadata": {
  "language_info": {
   "name": "python"
  },
  "orig_nbformat": 4
 },
 "nbformat": 4,
 "nbformat_minor": 2
}
