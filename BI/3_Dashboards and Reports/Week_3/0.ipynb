{
 "cells": [
  {
   "cell_type": "markdown",
   "metadata": {},
   "source": [
    "### What you´ll learn\n",
    "\n",
    "- Build dashboards that monitor long-term data\n",
    "- Apply decision-making principles to a business scenario\n",
    "- \"Meet\" clients\n",
    "- Build charts\n",
    "- Organize a dashboard\n",
    "- Address feedback and iterate"
   ]
  },
  {
   "cell_type": "markdown",
   "metadata": {},
   "source": [
    "### Project demands:\n",
    "\n",
    "- Traffic volume throughout the year; ideally organized by year, month, week, day, and hour\n",
    "\n",
    "- Traffic volume in different weather conditions\n",
    "\n",
    "- Traffic volume on different holidays\n",
    "\n",
    "### Project chart suggestions:\n",
    "\n",
    "- Chart 1: Traffic Volume and Date Time\n",
    "\n",
    "- Chart 2: Traffic Volume, Date Time, and Weather Main\n",
    "\n",
    "- Chart 3: Traffic Volume, Date Time, and a custom measure for Holidays"
   ]
  },
  {
   "cell_type": "markdown",
   "metadata": {},
   "source": [
    "### Desgin best practices\n",
    "\n",
    "- Place the most relevant visualizations at the top\n",
    "- Use hierarchy and contrast\n",
    "- Incorporate negative space\n"
   ]
  },
  {
   "cell_type": "markdown",
   "metadata": {},
   "source": [
    "### Three possible obstacles for long-term monitoring\n",
    "\n",
    "Pain points can change depending on the scale of the dashboard—the larger the scale, the more additional context is required to make the data understandable for users. However, there are three general obstacles you might encounter:\n",
    "\n",
    "- **Poorly defined use cases:** The ways a business intelligence tool is actually used and implemented by the team are referred to as “use cases.” When designing a dashboard that includes live-monitoring, it’s important to establish how the different views will be used. For example, if you only include one “executive view” with no way to drill down into specific information different users might need, it leaves a lot of the interpreting work to users who may not understand or even need to understand all of the data.\n",
    "\n",
    "- **Isolated snapshots:** Snapshots of the latest information can be useful for reports, but if there’s no way to track the data’s evolution, then these snapshots have a pretty limited utility. Building in tracking for users to explore will help them understand the snapshots better. Basically, tracking means including insights about how the data is changing over time.\n",
    "\n",
    "- **Lack of comparisons:** When creating a dashboard, implementing comparisons can help users understand whether the visualizations being presented indicate good or bad performance. Comparisons place KPIs side-by-side in order to easily examine how similar or different they are. Similar to adding more context to snapshots, adding comparisons is a fast way to ensure users understand why the data in the dashboard is useful."
   ]
  },
  {
   "cell_type": "markdown",
   "metadata": {},
   "source": []
  },
  {
   "cell_type": "markdown",
   "metadata": {},
   "source": []
  },
  {
   "cell_type": "code",
   "execution_count": null,
   "metadata": {},
   "outputs": [],
   "source": []
  }
 ],
 "metadata": {
  "language_info": {
   "name": "python"
  },
  "orig_nbformat": 4
 },
 "nbformat": 4,
 "nbformat_minor": 2
}
