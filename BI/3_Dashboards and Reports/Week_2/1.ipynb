{
 "cells": [
  {
   "cell_type": "markdown",
   "metadata": {},
   "source": [
    "**Trade-off**\n",
    "\n",
    "Balancing variuos factors, often by prioritizing one element while sacrificing another, in order to arrive at the best possible result.\n",
    "\n",
    "\n",
    "**Pre-aggregation**\n",
    "\n",
    "The process of performing calculations on data while it is still in the database"
   ]
  },
  {
   "cell_type": "markdown",
   "metadata": {},
   "source": [
    "#### **Compare scope in different contexts**\n",
    "\n",
    "<img src=\"./images/1.png\"></img>"
   ]
  },
  {
   "cell_type": "markdown",
   "metadata": {},
   "source": [
    "<img src=\"./images/visual_vocabulary.png\"></img>"
   ]
  },
  {
   "cell_type": "markdown",
   "metadata": {},
   "source": [
    "**Dimension** \n",
    "A qualitative data type that can be used to categorize data\n",
    "\n",
    "**Measure**\n",
    "A quantitative data type that can be either discrete or continuous.\n",
    "\n",
    "**Discrete data** has a limited number of values.\n",
    "\n",
    "**Continuous data** can have almost any numeric value.\n",
    "\n",
    "**Encoding:** The process of translating dimensions and measures into visual representations of the data.\n",
    "\n",
    "**Accessibility alert:** Refer to color accessibility guidelines or use double-encoding."
   ]
  },
  {
   "cell_type": "markdown",
   "metadata": {},
   "source": [
    "**Frameworks** like can help you organize your thoughts about data visualization and give you a useful checklist to reference:\n",
    "\n",
    "\n",
    "https://junkcharts.typepad.com/junk_charts/junk-charts-trifecta-checkup-the-definitive-guide.html\n",
    "\n",
    "https://informationisbeautiful.net/visualizations/what-makes-a-good-data-visualization/"
   ]
  },
  {
   "cell_type": "markdown",
   "metadata": {},
   "source": [
    "## Techniques for encoding\n",
    "\n",
    "As you have been learning, encoding is the act of translating the information represented by your dimensions and measures into visualizations. The artistic elements you choose communicate things about your data:\n",
    "\n",
    "- Line: Lines in visualizations can be curved or straight; thick or thin; vertical, horizontal, or diagonal. They add visual form to your data and help build the structure for your visualization.\n",
    "\n",
    "- Shape: Shapes are a great way to add eye-catching contrast—especially size contrast—to your data story.\n",
    "\n",
    "- Color: Color can help differentiate different elements of visualization and communicate insights.\n",
    "\n",
    "- Space: Space is the area between, around, and in objects. There should always be space in data visualizations so that the visualization isn’t too cluttered.\n",
    "\n",
    "- Movement: Movement is used to create a sense of flow or action in a visualization.\n",
    "\n",
    "These elements can help you break down the parts of your data visualization and what it is communicating—which will help you develop effective visualizations."
   ]
  },
  {
   "cell_type": "code",
   "execution_count": null,
   "metadata": {},
   "outputs": [],
   "source": []
  },
  {
   "cell_type": "code",
   "execution_count": null,
   "metadata": {},
   "outputs": [],
   "source": []
  }
 ],
 "metadata": {
  "language_info": {
   "name": "python"
  },
  "orig_nbformat": 4
 },
 "nbformat": 4,
 "nbformat_minor": 2
}
