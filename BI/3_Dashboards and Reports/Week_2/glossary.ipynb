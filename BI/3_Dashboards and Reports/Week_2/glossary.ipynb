{
 "cells": [
  {
   "cell_type": "markdown",
   "metadata": {},
   "source": [
    "**Dimension (visualization):** A qualitative data type that can be used to categorize data\n",
    "\n",
    "**Encoding:** The process of translating dimensions and measures into visual representations of the data\n",
    "\n",
    "**Measure:** A quantitative data type that can be either discrete or continuous\n",
    "\n",
    "**Object-level permission:** A privacy setting that controls the availability of a single item in a dashboard\n",
    "\n",
    "**Pre-aggregation:** The process of performing calculations on data while it is still in the database\n",
    "\n",
    "**Processing speed:** How quickly a program can update and load a specified amount of data \n",
    "\n",
    "**Public availability:** A privacy setting that allows anyone to access a dashboard\n",
    "\n",
    "**Row-level permission:** A privacy setting that controls the availability of specific rows of a table or dataset in a dashboard\n",
    "\n",
    "**Trade-off:** Balancing various factors, often by prioritizing one element while sacrificing another, in order to arrive at the best possible result"
   ]
  },
  {
   "cell_type": "markdown",
   "metadata": {},
   "source": []
  },
  {
   "cell_type": "markdown",
   "metadata": {},
   "source": []
  },
  {
   "cell_type": "code",
   "execution_count": null,
   "metadata": {},
   "outputs": [],
   "source": []
  }
 ],
 "metadata": {
  "language_info": {
   "name": "python"
  },
  "orig_nbformat": 4
 },
 "nbformat": 4,
 "nbformat_minor": 2
}
