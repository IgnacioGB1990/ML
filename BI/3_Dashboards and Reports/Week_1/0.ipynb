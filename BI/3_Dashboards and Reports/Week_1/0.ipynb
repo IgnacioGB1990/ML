{
 "cells": [
  {
   "cell_type": "markdown",
   "metadata": {},
   "source": [
    "**Dashboard:** An interactive visualization tool that monitors live, incoming data.\n",
    "\n",
    "## What you will learn:\n",
    "\n",
    "- Prepare the right kind of dashboard\n",
    "- Empower stakeholders with interactivity\n",
    "- Make dashboard mockups\n",
    "- Tableau for data visualization\n",
    "- Design dashboards and presentations\n",
    "- Make trade-offs\n",
    "- Pre-aggregate dat\n",
    "- Desing and organize charts\n",
    "- Edit and adapt\n",
    "- Communicate with stakeholders\n",
    "- Apply your dashboard skills to a realistic business scenario\n"
   ]
  },
  {
   "cell_type": "markdown",
   "metadata": {},
   "source": [
    "\"You need to have that passion about understanding the business, be curious, understand what problems they´re facing.\""
   ]
  },
  {
   "cell_type": "markdown",
   "metadata": {},
   "source": [
    "<img src=\"./images/1.png\"></img>\n",
    "\n",
    "**Week 1: Business intelligence visualizations**\n",
    "\n",
    "In this section of the course, you will learn about the foundations of BI dashboards and how they differ from other data analytics dashboards. You will discover why dynamic visualizations are an excellent way to answer business questions. In addition, you will discover how a dashboard’s interactivity empowers stakeholders.\n",
    "\n",
    "**Week 2: Visualize results**\n",
    "\n",
    "You will learn more about the trade-offs you will need to consider when building a BI visualization, and you’ll apply your BI knowledge to create charts and visualizations. You will also explore effective ways to organize elements within a dashboard. Finally, you’ll learn what other considerations you’ll need to make when building a dashboard. \n",
    "\n",
    "**Week 3: Automate and monitor**\n",
    "\n",
    "You will focus on creating dashboards that can effectively monitor data for the long term. You will imagine your future role as a BI professional, meet with a client, and use the information they provide for your project. Along the way, you will build charts and organize and iterate on a dashboard.\n",
    "\n",
    "**Week 4: Present business intelligence insights**\n",
    "\n",
    "In this part of the course, you will explore stakeholder presentations and strategies for sharing dashboards with clients. Then you will concentrate on the BI hiring process and discover strategies for refining your portfolio and updating your resume. Finally, you will review interview techniques that will help you demonstrate your skills to recruiters and hiring managers.\n",
    "\n",
    "**Week 5: Course 3 end-of-course project**\n",
    "\n",
    "During your third and final end-of-course project, you will use the target table you created earlier in the program to build a BI dashboard. You will refer to the key BI documents to create a low-fidelity mockup, design charts, and organize a dashboard. Your deliverables will include the mockup and the final dashboard, which you’ll present as a first draft to a stakeholder in the project scenario.  \n",
    "\n",
    "**Week 6: Put your Business Intelligence Certificate to work**\n",
    "\n",
    "In this final part of the program, you will review what you have learned throughout the Google Business Intelligence Certificate and explore additional career resources to establish yourself as a BI professional."
   ]
  }
 ],
 "metadata": {
  "language_info": {
   "name": "python"
  },
  "orig_nbformat": 4
 },
 "nbformat": 4,
 "nbformat_minor": 2
}
