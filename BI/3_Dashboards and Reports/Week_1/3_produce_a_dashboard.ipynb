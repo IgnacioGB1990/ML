{
 "cells": [
  {
   "cell_type": "markdown",
   "metadata": {},
   "source": [
    "**Iteration:** Repeating a procedure over and over again in order to keep getting closer to the desired result.\n",
    "\n",
    "\n",
    "Desired results are always changing, which is why BI professionals iterate all the time.\n",
    "\n",
    "The first step of the dashboard iteration process is to create a low-fidelity.\n",
    "\n",
    "**Low-fidelity mockup:** A simple draft of a visualization that is used for planning a dashboard and evalutating its progress"
   ]
  },
  {
   "cell_type": "markdown",
   "metadata": {},
   "source": [
    "**Data problem**\n",
    "A dashboard issue caused by the data being used. Maybe you´ve included more data than you need just as you´ve discovered with pipelines. This can cause dashboards to run slowly\n",
    "\n",
    "**Common data problems:**\n",
    "- More data than you need\n",
    "- Not enough data\n",
    "- The wrong datasets\n",
    "- Data from the wrong time period\n",
    "- Lacking understanding of data availability\n",
    "\n",
    "\n",
    "**Tool problem:**\n",
    "A dashboard issue involving the hardware or software being used\n",
    "\n",
    "**Audience problem:**\n",
    "A dashboard issue caused by failing to adequately consider the needs of the user."
   ]
  },
  {
   "cell_type": "markdown",
   "metadata": {},
   "source": []
  },
  {
   "cell_type": "markdown",
   "metadata": {},
   "source": []
  },
  {
   "cell_type": "markdown",
   "metadata": {},
   "source": []
  },
  {
   "cell_type": "markdown",
   "metadata": {},
   "source": []
  },
  {
   "cell_type": "markdown",
   "metadata": {},
   "source": []
  },
  {
   "cell_type": "markdown",
   "metadata": {},
   "source": []
  },
  {
   "cell_type": "code",
   "execution_count": null,
   "metadata": {},
   "outputs": [],
   "source": []
  }
 ],
 "metadata": {
  "language_info": {
   "name": "python"
  },
  "orig_nbformat": 4
 },
 "nbformat": 4,
 "nbformat_minor": 2
}
