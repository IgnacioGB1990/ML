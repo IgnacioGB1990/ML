{
 "cells": [
  {
   "cell_type": "markdown",
   "metadata": {},
   "source": [
    "**Audience problem:** A dashboard issue caused by failing to adequately consider the needs of the user\n",
    "\n",
    "**Data problem:** A dashboard issue caused by the data being used\n",
    "\n",
    "**Low-fidelity mockup:** A simple draft of a visualization that is used for planning a dashboard and evaluating its progress\n",
    "\n",
    "**Tool problem:** A dashboard issue involving the hardware or software being used"
   ]
  },
  {
   "cell_type": "markdown",
   "metadata": {},
   "source": [
    "<img src=\"./images/6.png\"></img>\n",
    "<img src=\"./images/2.png\"></img>\n",
    "<img src=\"./images/3.png\"></img>\n",
    "<img src=\"./images/4.png\"></img>\n",
    "<img src=\"./images/5.png\"></img>"
   ]
  },
  {
   "cell_type": "markdown",
   "metadata": {},
   "source": [
    "**Processing speed:** How quickly a program can update and load a specified amount of data.\n",
    "\n",
    "### To reduce load and increase speed\n",
    "\n",
    "- Start broadly, then narrow scope\n",
    "- Remove irrelevant metrics\n",
    "- Change the calculations\n",
    "- Configure the amount of preloaded data\n",
    "- Filter data early\n",
    "- Pre-aggregate data"
   ]
  },
  {
   "cell_type": "markdown",
   "metadata": {},
   "source": [
    "### Privacy permissions\n",
    "\n",
    "- Public availability\n",
    "- Object-level permission\n",
    "- Row-level permission"
   ]
  },
  {
   "cell_type": "markdown",
   "metadata": {},
   "source": [
    "**Public availability:** A privacy setting that allows anyone to access a dashboard.\n",
    "\n",
    "**Object-level permission:** A privacy setting that controls the availability of a single item in a dashboard.\n",
    "\n",
    "**Row-level permission:** A privacy setting that controls the availabitity of specific rows of a table or dataset in a dashboard."
   ]
  },
  {
   "cell_type": "markdown",
   "metadata": {},
   "source": [
    "### **Reduce processing load**\n",
    "\n",
    "One of the primary ways you can work to optimize your processing speed is by reducing the processing load. You can do this by:\n",
    "\n",
    "- **Pre-aggregating:** This is the process of performing calculations on data while it is still in the database. Pre-aggregating data will transform data into a state that’s closer to what you ultimately need because some necessary calculations will happen before the data is sent to the data visualization tool. The trade-off is that your pipeline will involve more steps and your dataset uploaded into the visualization tool will be less flexible , but your users will get the information they need more quickly.\n",
    "\n",
    "- **Using JOINs:** JOINS are used to combine rows from two or more tables based on a related column. This basically merges tables together before they’re ever used in the dashboard. This can save a lot of processing load in the actual dashboard. However, if you are trying to join a full table, it can be more of a burden to the system. This is caused by the dimensionality of the tables. For example, joining a one million row table with a 100 million row table will most likely generate a lot of overhead every time the dash is updated. So it’s important to think carefully about how you use JOINs to reduce processing load!\n",
    "\n",
    "- **Filtering:** Filtering is the process of showing only the data that meets a specified criteria while hiding the rest. Filtering the data early in your dashboard’s processing means that it doesn’t have to sort through data that isn’t actually going to be used. The tradeoff of this is that this means less data is available for your users to view on their own.\n",
    "\n",
    "- **Linking to external locations:** In cases where you have data in your dashboard that you can provide context for outside of the dashboard and which can help cut down on the processing load, you can link out to that location for users to explore on their own.\n",
    "\n",
    "- **Avoiding user-defined functions:** Users making requests of your dashboard can add a lot of load to the processing work it’s doing. Consider the kinds of questions that users might have when designing the dashboard so that you can address them without the users themselves having to input functions repeatedly.\n",
    "\n",
    "- **Deciding between data views and tables:** Tables contain actual data. Data views are the result of a stored data query that preserves business logic and can be queried like a database. Data views often require much less processing load because they don’t contain actual data, just a view of the data. This makes them less flexible, so you’ll want to consider how interactive you need the data in your dashboard to be."
   ]
  },
  {
   "cell_type": "code",
   "execution_count": null,
   "metadata": {},
   "outputs": [],
   "source": []
  }
 ],
 "metadata": {
  "language_info": {
   "name": "python"
  },
  "orig_nbformat": 4
 },
 "nbformat": 4,
 "nbformat_minor": 2
}
