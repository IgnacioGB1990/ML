{
 "cells": [
  {
   "cell_type": "markdown",
   "metadata": {},
   "source": [
    "## What you'll learn\n",
    "\n",
    "- Dashboard basics\n",
    "- Dynamic visualizations\n",
    "- Interactivity\n",
    "- Planning a dashboard\n",
    "- Mockup\n",
    "- Visualization tools\n"
   ]
  },
  {
   "cell_type": "markdown",
   "metadata": {},
   "source": [
    "**Data visualization:** The graphical representation of data.\n",
    "\n",
    "\n",
    "**Dynamic visualization:** A visualization that is interactive or changes over time.\n",
    "\n",
    "\n",
    "Your role as a BI professional will rarely involve interpreting the data that your dashboard displays, instead, you´ll create a dashboard that empowers users to interpret the data on their own.\n",
    "\n",
    "You will: \n",
    "\n",
    "- Determine what the dashboard needs to do\n",
    "- Build the appropriate tool\n",
    "- Maintain and improve"
   ]
  },
  {
   "cell_type": "markdown",
   "metadata": {},
   "source": []
  },
  {
   "cell_type": "markdown",
   "metadata": {},
   "source": []
  },
  {
   "cell_type": "code",
   "execution_count": null,
   "metadata": {},
   "outputs": [],
   "source": []
  }
 ],
 "metadata": {
  "language_info": {
   "name": "python"
  },
  "orig_nbformat": 4
 },
 "nbformat": 4,
 "nbformat_minor": 2
}
