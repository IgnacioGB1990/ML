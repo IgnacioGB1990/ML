{
 "cells": [
  {
   "cell_type": "markdown",
   "metadata": {},
   "source": [
    "### Types of Dashboards:\n",
    "\n",
    "Often, BI professionals will tailor a dashboard for a specific purpose. The three most common categories are:\n",
    "\n",
    "- Strategic: focuses on long-term goals and strategies at the highest level of metrics\n",
    "\n",
    "- Operational: tracks short-term performance and intermediate goals\n",
    "\n",
    "- Analytical: consists of the datasets and the mathematics used in these sets\n",
    "\n",
    "**Strategic dashboards**\n",
    "\n",
    "A wide range of businesses use strategic dashboards when evaluating and aligning their strategic goals. These dashboards provide information over the longest time frame—from a single financial quarter to years. They typically contain information that is useful for enterprise-wide decision-making. For example, a strategic dashboard could focus on key performance indicators over a year.\n",
    "\n",
    "<img src=\"./images/2.png\"></img>\n",
    "\n",
    "**Operational dashboards**\n",
    "\n",
    "Operational dashboards are arguably the most common type of dashboard. Because these dashboards contain information on a time scale of days, weeks, or months, they can provide performance insight almost in real-time. This enables businesses to track and maintain their immediate operational processes in light of their strategic goals. An operational dashboard could focus on customer service team performance.\n",
    "\n",
    "<img src=\"./images/3.png\"></img>\n",
    "\n",
    "**Analytic dashboards**\n",
    "\n",
    "Analytic dashboards contain the details involved in the use, analysis, and predictions made by data scientists. Data science teams usually create and maintain the most technical category, analytic dashboards. An example of an analytic dashboard could focus on metrics for a company’s financial performance.\n",
    "\n",
    "<img src=\"./images/4.png\"></img>"
   ]
  },
  {
   "cell_type": "markdown",
   "metadata": {},
   "source": []
  },
  {
   "cell_type": "markdown",
   "metadata": {},
   "source": []
  }
 ],
 "metadata": {
  "language_info": {
   "name": "python"
  },
  "orig_nbformat": 4
 },
 "nbformat": 4,
 "nbformat_minor": 2
}
