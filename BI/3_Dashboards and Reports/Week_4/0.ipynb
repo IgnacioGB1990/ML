{
 "cells": [
  {
   "cell_type": "markdown",
   "metadata": {},
   "source": [
    "### What you'll learn\n",
    "\n",
    "- Stakeholder presentations\n",
    "- Sharing dashboards\n",
    "- Hiring"
   ]
  },
  {
   "cell_type": "markdown",
   "metadata": {},
   "source": [
    "### BI Technical skills:\n",
    "\n",
    "- Identify the right data, metrics and KPIs for a particular project\n",
    "- Applying data modeling and pipelines to organize and move data\n",
    "- Transforming data into a usable form\n",
    "- Using that data to solve problems and answer questions\n",
    "- Making visualizations and dashboards that drive business processes and goals\n",
    "- Excellent communication and presentation skills"
   ]
  },
  {
   "cell_type": "markdown",
   "metadata": {},
   "source": []
  },
  {
   "cell_type": "markdown",
   "metadata": {},
   "source": []
  },
  {
   "cell_type": "markdown",
   "metadata": {},
   "source": []
  },
  {
   "cell_type": "code",
   "execution_count": null,
   "metadata": {},
   "outputs": [],
   "source": []
  }
 ],
 "metadata": {
  "language_info": {
   "name": "python"
  },
  "orig_nbformat": 4
 },
 "nbformat": 4,
 "nbformat_minor": 2
}
