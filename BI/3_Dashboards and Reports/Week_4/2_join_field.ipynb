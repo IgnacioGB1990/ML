{
 "cells": [
  {
   "cell_type": "markdown",
   "metadata": {},
   "source": [
    "### The STAR Method\n",
    "\n",
    "- Situation\n",
    "- Task\n",
    "- Action\n",
    "- Results"
   ]
  },
  {
   "cell_type": "markdown",
   "metadata": {},
   "source": [
    "### Interview Questions\n",
    "\n",
    "- What are some upcoming projects I'd be working on?\n",
    "- What current goals is th ecompany focused on?\n",
    "- Can you tell me about the team I'll be working with?\n",
    "\n",
    "\n",
    "### Practice Questions\n",
    "\n",
    "https://grow.google/certificates/interview-warmup/category/business-intelligence/all-questions/\n"
   ]
  },
  {
   "cell_type": "markdown",
   "metadata": {},
   "source": [
    "Accomplished [X]\n",
    "\n",
    "As measured by [Y]\n",
    "\n",
    "By doing [Z]\n",
    "\n",
    "\n",
    "Selected as one of 275 participants nationwide for this 12-month professional development program for high-achieving talent based on leadaership potential and academic success"
   ]
  }
 ],
 "metadata": {
  "language_info": {
   "name": "python"
  },
  "orig_nbformat": 4
 },
 "nbformat": 4,
 "nbformat_minor": 2
}
