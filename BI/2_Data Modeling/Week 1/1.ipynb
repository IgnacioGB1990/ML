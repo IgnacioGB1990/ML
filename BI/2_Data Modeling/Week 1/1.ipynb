{
 "cells": [
  {
   "cell_type": "markdown",
   "metadata": {},
   "source": [
    "## Get started with data modeling, schemas, and databases\n",
    "\n",
    "\n",
    "<img src=\"../../images/path_to_insights.png\"></img>\n",
    "\n",
    "<img src=\"../../images/path_2_summary.png\"></img>"
   ]
  },
  {
   "cell_type": "markdown",
   "metadata": {},
   "source": [
    "## Week 1:\n",
    "\n",
    "Data models and pipelines\n",
    "You will start this course by exploring data modeling foundations, as well as common schemas and key database elements. You will also consider how business needs determine the kinds of database systems that a BI professional might implement. You will then shift to learning about pipelines and ETL processes, which are the tools that move data throughout the system and make sure it’s accessible and useful. Along the way, you will add many more important tools to your BI toolbox.\n",
    "\n",
    "## Week 2:\n",
    "\n",
    "Dynamic database design\n",
    "In this part of the course, you will learn more about database systems, including data marts, data lakes, data warehouses, and ETL processes. You will also investigate the five factors of database performance: workload, throughput, resources, optimization, and contention. Finally, you will begin thinking about how to design efficient queries that get the most from your system. \n",
    "\n",
    "## Week 3:\n",
    "\n",
    "Optimize ETL processes\n",
    "In this section of the course, you will learn about ETL quality testing, data schema validation, verifying business rules, and general performance testing. You will also explore data integrity and learn how built-in quality checks help you discover data defects. Finally, you will learn how to verify business rules and conduct general performance testing to make sure pipelines fulfill the intended business need. \n",
    "\n",
    "## Week 4:\n",
    "\n",
    "Course 2 end-of-course project\n",
    "In the second end-of-course project, you will create a pipeline process to deliver necessary data to a target table. Then, you will use that target table to develop reports based on project needs. After you create the pipeline, you will also ensure that it is performing correctly and that there are built-in defenses against data quality issues. "
   ]
  },
  {
   "cell_type": "markdown",
   "metadata": {},
   "source": [
    "What you will learn:\n",
    "\n",
    "- Data’s function within an organization\n",
    "- Why structured data is essential to business intelligence\n",
    "- How data models can be used to organize database systems\n",
    "- The distinctions between creating and querying a data model\n",
    "- The role of data warehouses, data marts, and data lakes in business intelligence\n",
    "- Strategies for creating and maintaining processes that meet organizational and stakeholder needs\n",
    "\n",
    "Skill sets you will build:\n",
    "\n",
    "- Applying data modeling to organize data elements and how they relate to one another\n",
    "- Retrieving data from a data source using pipelines, such as ETL\n",
    "- Transforming data into a usable format to answer specific business questions\n",
    "- Designing data pipelines that automate business intelligence processes\n",
    "- Using data modeling to design data storage systems, including data warehouses, data marts, and data lakes\n",
    "- Using actual data to create a business intelligence portfolio project"
   ]
  },
  {
   "cell_type": "markdown",
   "metadata": {},
   "source": [
    "**Data lake:**\n",
    "A database system that stores large amounts of raw data in its original format unitl it´s needed.\n",
    "\n",
    "**Online Transaction Processing (OLTP) database:**\n",
    "A database that has been optimized for data processing instead of analysis.\n",
    "\n",
    "**Data mart:**\n",
    "A subject-oriented database that can be a subset of a larger data warehouse\n",
    "\n",
    "**Online Analytical Processing (OLAP) system:**\n",
    "A tool that has been optimized for analysis in addition to processing and can analyze data from multiple databases.\n",
    "\n",
    "\n",
    "Two types of data:\n",
    "\n",
    "1. **Unstructured data:** Data that is not organized in any easily identifiable manner.\n",
    "2. **Structured data:** Data that has been organized in a certain format such as rows and columns.\n",
    "\n",
    "**Data model:** A tool for organizing data elements and how they relate to one another.\n",
    "\n",
    "**Design pattern:** A solution that uses relevant measures and facts to create a model in support of business needs.\n",
    "\n",
    "**Schema:** A way of describing how something, such as data, is organized.\n",
    "\n",
    "**Common schemas:**\n",
    "- Relational models\n",
    "- Star schemas\n",
    "- Snowflake schemas\n",
    "- NoSQL schemas\n"
   ]
  },
  {
   "cell_type": "markdown",
   "metadata": {},
   "source": [
    "### **Relational database:**\n",
    "\n",
    "A database that contains a series of tables that can be connected to form relationships.\n",
    "\n",
    "\n",
    "**Primary key**\n",
    "An identifier in a databse that references a column or group of columns in which each row uniquely identifies each record in the table.\n",
    "\n",
    "**Dimensional model**\n",
    "A type of relational model that has been optimized to quickly retrieve data from a data warehouse.\n",
    "\n",
    "**Fact**\n",
    "A measurement or metric.\n",
    "\n",
    "**Dimension (data modeling)**\n",
    "A piece of information that provides more detail and context regarding a fact.\n",
    "\n",
    "**Attribute**\n",
    "A characteristic or quality used to describe a dimension.\n",
    "\n",
    "**Fact table**\n",
    "A table that contains measurements or metrics related to a particular event.\n",
    "\n",
    "**Dimension table**\n",
    "The table where the attributes of the dimensions of a fact are stored."
   ]
  },
  {
   "cell_type": "markdown",
   "metadata": {},
   "source": [
    "### **Types of schemas**\n",
    "\n",
    "**Star schema**\n",
    "A schema consisting of one fact table that references any number of dimension tables.\n",
    "\n",
    "**Snowflake schema**\n",
    "An extension of a star schema with additional dimensions and, often, subdimensions."
   ]
  },
  {
   "cell_type": "markdown",
   "metadata": {},
   "source": []
  },
  {
   "cell_type": "code",
   "execution_count": null,
   "metadata": {},
   "outputs": [],
   "source": []
  }
 ],
 "metadata": {
  "language_info": {
   "name": "python"
  },
  "orig_nbformat": 4
 },
 "nbformat": 4,
 "nbformat_minor": 2
}
