{
 "cells": [
  {
   "cell_type": "markdown",
   "metadata": {},
   "source": [
    "## What you will learn:\n",
    "\n",
    "- Database modeling\n",
    "- Desing patterns\n",
    "- Database schemas\n",
    "- Different kinds of databases\n",
    "- Data pipelines\n",
    "- Data storage systems\n",
    "- Common BI tools\n",
    "- Working with stakeholders\n",
    "- Database and pipeline optimization\n"
   ]
  }
 ],
 "metadata": {
  "language_info": {
   "name": "python"
  },
  "orig_nbformat": 4
 },
 "nbformat": 4,
 "nbformat_minor": 2
}
