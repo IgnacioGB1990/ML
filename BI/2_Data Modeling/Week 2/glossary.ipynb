{
 "cells": [
  {
   "cell_type": "markdown",
   "metadata": {},
   "source": [
    "## Glossary terms from week 2\n",
    "\n",
    "**Contention:** When two or more components attempt to use a single resource in a conflicting way\n",
    "\n",
    "**Data partitioning:** The process of dividing a database into distinct, logical parts in order to improve query processing and increase manageability\n",
    "\n",
    "**Database performance:** A measure of the workload that can be processed by a database, as well as associated costs\n",
    "\n",
    "**ELT (extract, load, and transform):** A type of data pipeline that enables data to be gathered from data lakes, loaded into a unified destination system, and transformed into a useful format \n",
    "\n",
    "**Fragmented data:** Data that is broken up into many pieces that are not stored together, often as a result of using the data frequently or creating, deleting, or modifying files\n",
    "\n",
    "**Index:** An organizational tag used to quickly locate data within a database system\n",
    "\n",
    "**Optimization:** Maximizing the speed and efficiency with which data is retrieved in order to ensure high levels of database performance\n",
    "\n",
    "**Query plan:** A description of the steps a database system takes in order to execute a query\n",
    "\n",
    "**Resources:** The hardware and software tools available for use in a database system\n",
    "\n",
    "**Subject-oriented:** Associated with specific areas or departments of a business\n",
    "\n",
    "**Throughput:** The overall capability of the database’s hardware and software to process requests\n",
    "\n",
    "**Workload:** The combination of transactions, queries, data warehousing analysis, and system commands being processed by the database system at any given time"
   ]
  },
  {
   "cell_type": "code",
   "execution_count": null,
   "metadata": {},
   "outputs": [],
   "source": []
  }
 ],
 "metadata": {
  "language_info": {
   "name": "python"
  },
  "orig_nbformat": 4
 },
 "nbformat": 4,
 "nbformat_minor": 2
}
