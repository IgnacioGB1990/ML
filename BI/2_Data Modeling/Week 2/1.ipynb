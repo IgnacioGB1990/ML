{
 "cells": [
  {
   "cell_type": "markdown",
   "metadata": {},
   "source": [
    "## Database performance"
   ]
  },
  {
   "cell_type": "markdown",
   "metadata": {},
   "source": [
    "**Extract, Load, and Transform (ELT)**\n",
    "\n",
    "A type of data pipeline that enables data to be gathered from data lakes, loaded into a unified destination system, and transformed into a useful format.\n",
    "\n",
    "\n"
   ]
  },
  {
   "cell_type": "markdown",
   "metadata": {},
   "source": [
    "**Data mart**\n",
    "\n",
    "A subject-oriented database that can be a subset of a larger data warehouse\n",
    "\n",
    "**Subject-oriented**\n",
    "\n",
    "Associated with specific areas or departments of a business\n",
    "\n",
    "\n",
    "**Data lake**\n",
    "\n",
    "A database system that stores large amounts of raw data in its original format until it´s needed."
   ]
  },
  {
   "cell_type": "markdown",
   "metadata": {},
   "source": [
    "### ETL versus ELT"
   ]
  },
  {
   "cell_type": "markdown",
   "metadata": {},
   "source": [
    "<img src=\"../../images/etl_vs_elt_1.png\"></img>\n",
    "\n",
    "<img src=\"../../images/etl_vs_elt_2.png\"></img>\n"
   ]
  },
  {
   "cell_type": "markdown",
   "metadata": {},
   "source": [
    "### Data storage systems\n",
    "\n",
    "Because ETL and ELT systems deal with data in slightly different ways, they are optimized to work with different data storage systems. Specifically, you might encounter data warehouses and data lakes. As a refresher, a data warehouse is a type of database that consolidates data from multiple source systems for data consistency, accuracy, and efficient access. And a data lake is a database system that stores large amounts of raw data in its original format until it’s needed. While these two systems perform the same basic function, there are some key differences:\n",
    "\n",
    "<img src=\"../../images/warehouse_vs_lake.png\"></img>"
   ]
  },
  {
   "cell_type": "markdown",
   "metadata": {},
   "source": [
    "**Database performance**\n",
    "\n",
    "A measure of the workload that can be processed by a database, as well as associated costs.\n",
    "\n",
    "\n",
    "5 factors of database performance:\n",
    "\n",
    "1. **Workload:** The combination of transactions, queries, data warehousing analysis, and system commands being processed by the database system at any given time.\n",
    "2. **Throughput:** The overall capability of the database´s hardware and software to process requests.\n",
    "3. **Resources:** The hardware and software tools available for use in a database system.\n",
    "4. **Optimization:** Maximizing the speed and efficiency with which data is retrieved in order to ensure high levels of database performance.\n",
    "5. **Contention:** When two or more components attempt to use a single resource in a conflicting way.\n",
    "\n",
    "\n",
    "<img src=\"../../images/5_factors.png\"></img>"
   ]
  },
  {
   "cell_type": "markdown",
   "metadata": {},
   "source": [
    "### Optimize database performance\n",
    "\n",
    "Database optimization is an ongoing process and you'll need to continue to monitor performance to keep everything running smoothly.\n",
    "\n",
    "\n",
    "**Response time**\n",
    "\n",
    "The time it takes for a database to respond to a user request.\n",
    "\n",
    "**Query plan (how?)**\n",
    "\n",
    "A description of the steps a database system takes in order to execute a query.\n",
    "\n",
    "**Index**\n",
    "\n",
    "An organizational tag used to quickly locate data within a database system.\n",
    "\n",
    "**Data partitioning**\n",
    "\n",
    "The process of dividing a database into distinct, logical parts in order to improve query processing and increase manageability.\n",
    "\n",
    "**Fragmented data**\n",
    "\n",
    "Data that is broken up into many pieces that are not stored together, often as a result of using the data frequently or creating, deleting, or modifying files."
   ]
  },
  {
   "cell_type": "markdown",
   "metadata": {},
   "source": [
    "### Indexes, partitions, and other ways to optimize query performance and minimize processing costs"
   ]
  },
  {
   "cell_type": "markdown",
   "metadata": {},
   "source": [
    "**Optimization for data reading**\n",
    "\n",
    "One of the continual tasks of a database is reading data. Reading is the process of interpreting and processing data to make it available and useful to users. As you have been learning, database optimization is key to maximizing the speed and efficiency with which data is retrieved in order to ensure high levels of database performance. Optimizing reading is one of the primary ways you can improve database performance for users. Next, you will learn more about different ways you can **optimize your database to read data**, including indexing and partitioning, queries, and caching.\n",
    "\n",
    "**Indexes**\n",
    "\n",
    "Sometimes, when you are reading a book with a lot of information, it will include an index at the back of the book where that information is organized by topic with page numbers listed for each reference. This saves you time if you know what you want to find– instead of flipping through the entire book, you can go straight to the index, which will direct you to the information you need.\n",
    "\n",
    "Indexes in databases are basically the same– they use the keys from the database tables to very quickly search through specific locations in the database instead of the entire thing. This is why they’re so important for database optimization– when users run a search in a fully indexed database, it can return the information so much faster.  For example, a table with columns ID, Name, and Department could use an index with the corresponding names and IDs.\n",
    "\n",
    "<img src=\"../../images/index.png\"></img>\n",
    "\n",
    "Now the database can easily locate the names in the larger table quickly for searches using those IDs from the index.\n",
    "\n",
    "**Partitions**\n",
    "\n",
    "Data partitioning is another way to speed up database retrieval. There are two types of partitioning: vertical and horizontal. Horizontal partitioning is the most common, and involves designing the database so that rows are organized by logical groupings instead of stored in columns. The different rows are stored in different tables– this reduces the index size and makes it easier to write and retrieve data from the database.\n",
    "\n",
    "Instead of creating an index table to help the database search through the data faster, partitions split larger, unwieldy tables into much more manageable, smaller tables. \n",
    "\n",
    "<img src=\"../../images/partitions.png\"></img>\n",
    "\n",
    "In this example, the larger sales table is broken down into smaller tables– these smaller tables are easier to query because the database doesn’t need to search through as much data at one time.\n",
    "\n",
    "**Other optimization methods**\n",
    "\n",
    "In addition to making your database easier to search through with indexes and partitions, you can also optimize your actual searches for readability or use your system’s cached memory to save time retrieving frequently used data. \n",
    "\n",
    "**Queries**\n",
    "\n",
    "Queries are requests for data or information from a database. In many cases, you might have a collection of queries that you run regularly; these might be automated queries that generate reports, or regular searches made by users.\n",
    "\n",
    "If these queries are not optimized, they can take a long time to return results to users and take up database resources in general. There a few things you can do to optimize queries:\n",
    "\n",
    "1. **Consider the business requirements:** Understanding the business requirements can help you determine what information you really need to pull from the database and avoid putting unnecessary strain on the system by asking for data you don’t actually need.\n",
    "\n",
    "2. **Avoid using SELECT* and SELECT DISTINCT:** Using SELECT* and SELECT DISTINCT causes the database to have to parse through a lot of unnecessary data. Instead, you can optimize queries by selecting specific fields whenever possible.\n",
    "\n",
    "3. **Use INNER JOIN instead of subqueries:** Using subqueries causes the database to parse through a large number of results and then filter them, which can take more time than simply JOINing tables in the first place.\n",
    "\n",
    "Additionally, you can use pre-aggregated queries to increase database read functionality. Basically, pre-aggregating data means assembling the data needed to measure certain metrics in tables so that the data doesn’t need to be re-captured every time you run a query on it.\n",
    "\n",
    "If you’re interested in learning more about optimizing queries, you can check out \n",
    "Devart’s article on SQL Query Optimization.\n",
    "\n",
    "**Caching**\n",
    "\n",
    "Finally, the cache can be a useful way to optimize your database for readability. Essentially, the cache is a layer of short-term memory where tables and queries can be stored. By querying the cache instead of the database system itself, you can actually save on resources. You can just take what you need from the memory.\n",
    "\n",
    "For example, if you often access the database for annual sales reports, you can save those reports in the cache and pull them directly from memory instead of asking the database to generate them over and over again."
   ]
  },
  {
   "cell_type": "markdown",
   "metadata": {},
   "source": []
  }
 ],
 "metadata": {
  "language_info": {
   "name": "python"
  },
  "orig_nbformat": 4
 },
 "nbformat": 4,
 "nbformat_minor": 2
}
