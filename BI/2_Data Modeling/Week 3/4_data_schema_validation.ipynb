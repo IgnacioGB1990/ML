{
 "cells": [
  {
   "cell_type": "markdown",
   "metadata": {},
   "source": [
    "**Conformity:** Confirming that the data fits the required destination format.\n",
    "\n",
    "\n",
    "To ensure conformity, from source to destination, BI professionals have 3 effective tools:\n",
    "\n",
    "1. **Schema validation:** A process to ensure that the source system data schema matches the target database data schema.\n",
    "    \n",
    "    - Schema validation properties:\n",
    "        1. The keys are still valid.\n",
    "        2. The table relationships have been preserved.\n",
    "        3. The conventions are consistent.\n",
    "\n",
    "2. **Data dictionaries:** A collection of information that describes the content, format, and structure of data objects within a database, as well as their relationhsips.\n",
    "\n",
    "3. **Data lineage:** The process of identifying the origin of data, where it has moved throughout the system, and how it has transformed over time."
   ]
  },
  {
   "cell_type": "markdown",
   "metadata": {},
   "source": [
    "## **Schema-validation checklist**\n",
    "\n",
    "In this course, you have been learning about the tools business intelligence professionals use to ensure conformity from source to destination: schema validation, data dictionaries, and data lineages. In another reading, you already had the opportunity to explore data dictionaries and lineages. In this reading, you are going to get a schema validation checklist you can use to guide your own validation process.\n",
    "\n",
    "Schema validation is a **process used to ensure that the source system data schema matches the target database data schema.** This is important because if the schemas don’t align, it can cause system failures that are hard to fix. Building schema validation into your workflow is important to prevent these issues.\n",
    "\n",
    "**Common issues for schema validation**\n",
    "\n",
    "- **The keys are still valid:** Primary and foreign keys build relationships between tables in relational databases. These keys should continue to function after you have moved data from one system into another.\n",
    "\n",
    "- **The table relationships have been preserved:** The keys help preserve the relationships used to connect the tables so that keys can still be used to connect tables. It’s important to make sure that these relationships are preserved or that they are transformed to match the target schema.\n",
    "\n",
    "- **The conventions are consistent:** The conventions for incoming data must be consistent with the target database’s schema. Data from outside sources might use different conventions for naming columns in tables– it’s important to align these before they’re added to the target system.\n",
    "\n",
    "**Using data dictionaries and lineages**\n",
    "\n",
    "You’ve already learned quite a bit about data dictionaries and lineages. As a refresher, a data dictionary is a collection of information that describes the content, format, and structure of data objects within a database, as well as their relationships. And a data lineage is the process of identifying the origin of data, where it has moved throughout the system, and how it has transformed over time. These tools are useful because they can help you identify what standards incoming data should adhere to and track down any errors to the source.\n",
    "\n",
    "The data dictionaries and lineages reading\n",
    " provided some additional information if more review is needed.\n",
    "\n",
    "**Key takeaways**\n",
    "\n",
    "Schema validation is a useful check for ensuring that the data moving from source systems to your target database is consistent and won’t cause any errors. Building in checks to make sure that the keys are still valid, the table relationships have been preserved, and the conventions are consistent before data is delivered will save you time and energy trying to fix these errors later on."
   ]
  },
  {
   "cell_type": "markdown",
   "metadata": {},
   "source": []
  },
  {
   "cell_type": "markdown",
   "metadata": {},
   "source": [
    "<img src=\"./images/schema1.png\"></img>\n",
    "\n",
    "\n",
    "<img src=\"./images/schema2.png\"></img>"
   ]
  },
  {
   "cell_type": "code",
   "execution_count": null,
   "metadata": {},
   "outputs": [],
   "source": []
  },
  {
   "cell_type": "code",
   "execution_count": null,
   "metadata": {},
   "outputs": [],
   "source": []
  },
  {
   "cell_type": "markdown",
   "metadata": {},
   "source": []
  },
  {
   "cell_type": "markdown",
   "metadata": {},
   "source": []
  },
  {
   "cell_type": "markdown",
   "metadata": {},
   "source": []
  },
  {
   "cell_type": "code",
   "execution_count": null,
   "metadata": {},
   "outputs": [],
   "source": []
  }
 ],
 "metadata": {
  "language_info": {
   "name": "python"
  },
  "orig_nbformat": 4
 },
 "nbformat": 4,
 "nbformat_minor": 2
}
