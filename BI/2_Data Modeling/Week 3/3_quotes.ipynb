{
 "cells": [
  {
   "cell_type": "markdown",
   "metadata": {},
   "source": [
    "\"In the abscence of good data, you have dirt. Quality testis is all about how you make sure that you have good data.\"\n",
    "\n",
    "\n",
    "\"Embedding quality testing, not only as a one off, but as a regular process in your pipelines or in whatever that you're building is of incredible importance because bugs are just bound to happen.\""
   ]
  }
 ],
 "metadata": {
  "language_info": {
   "name": "python"
  },
  "orig_nbformat": 4
 },
 "nbformat": 4,
 "nbformat_minor": 2
}
