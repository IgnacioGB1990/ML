{
 "cells": [
  {
   "cell_type": "markdown",
   "metadata": {},
   "source": [
    "### **Business Rule**\n",
    "\n",
    "A statement that creates a restriction on specific parts of a database.\n",
    "\n",
    "\n",
    "Business rules affect:\n",
    "\n",
    "- What data is collected and stores\n",
    "- How relationships are defined\n",
    "- What kind of information the database provides\n",
    "- The security of the data\n",
    "\n",
    "These checks are important because they ensure that databases do their jobs as intended.\n",
    "And because business rules are so integral to the way databases function, verifying that they're working correctly is very important."
   ]
  },
  {
   "cell_type": "markdown",
   "metadata": {},
   "source": []
  },
  {
   "cell_type": "markdown",
   "metadata": {},
   "source": []
  },
  {
   "cell_type": "markdown",
   "metadata": {},
   "source": []
  },
  {
   "cell_type": "code",
   "execution_count": null,
   "metadata": {},
   "outputs": [],
   "source": []
  }
 ],
 "metadata": {
  "language_info": {
   "name": "python"
  },
  "orig_nbformat": 4
 },
 "nbformat": 4,
 "nbformat_minor": 2
}
