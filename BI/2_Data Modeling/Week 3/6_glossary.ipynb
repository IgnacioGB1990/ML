{
 "cells": [
  {
   "cell_type": "markdown",
   "metadata": {},
   "source": [
    "### **Glossary**\n",
    "\n",
    "**Accuracy:** An element of quality testing used to confirm that data conforms to the actual entity being measured or described\n",
    "\n",
    "**Business rule:** A statement that creates a restriction on specific parts of a database\n",
    "\n",
    "**Completeness:** An element of quality testing used to confirm that data contains all desired components or measures\n",
    "\n",
    "**Conformity:** An element of quality testing used to confirm that data fits the required destination format\n",
    "\n",
    "**Consistency:** An element of quality testing used to confirm that data is compatible and in agreement across all systems\n",
    "\n",
    "**Data dictionary:** A collection of information that describes the content, format, and structure of data objects within a database, as well as their relationships\n",
    "\n",
    "**Data lineage:** The process of identifying the origin of data, where it has moved throughout the system, and how it has transformed over time\n",
    "\n",
    "**Data mapping:** The process of matching fields from one data source to another\n",
    "\n",
    "**Integrity:** An element of quality testing used to confirm that data is accurate, complete, consistent, and trustworthy throughout its life cycle\n",
    "\n",
    "**Quality testing:** The process of checking data for defects in order to prevent system failures; it involves the seven validation elements of completeness, consistency, conformity, accuracy, redundancy, integrity, and timeliness\n",
    "\n",
    "**Redundancy:** An element of quality testing used to confirm that no more data than necessary is moved, transformed, or stored\n",
    "\n",
    "**Schema validation:** A process to ensure that the source system data schema matches the target database data schema\n",
    "\n",
    "**Timeliness:** An element of quality testing used to confirm that data is current"
   ]
  },
  {
   "cell_type": "markdown",
   "metadata": {},
   "source": []
  },
  {
   "cell_type": "markdown",
   "metadata": {},
   "source": []
  },
  {
   "cell_type": "markdown",
   "metadata": {},
   "source": []
  },
  {
   "cell_type": "code",
   "execution_count": null,
   "metadata": {},
   "outputs": [],
   "source": []
  }
 ],
 "metadata": {
  "language_info": {
   "name": "python"
  },
  "orig_nbformat": 4
 },
 "nbformat": 4,
 "nbformat_minor": 2
}
