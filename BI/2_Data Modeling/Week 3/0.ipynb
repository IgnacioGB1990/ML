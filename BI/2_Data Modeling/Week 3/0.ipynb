{
 "cells": [
  {
   "cell_type": "markdown",
   "metadata": {},
   "source": [
    "### What you´ll learn\n",
    "\n",
    "- ETL quality testing\n",
    "- Data schema validation\n",
    "- Verifying business rules\n",
    "- Performance testing"
   ]
  }
 ],
 "metadata": {
  "language_info": {
   "name": "python"
  },
  "orig_nbformat": 4
 },
 "nbformat": 4,
 "nbformat_minor": 2
}
