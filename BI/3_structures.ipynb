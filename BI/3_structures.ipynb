{
 "cells": [
  {
   "cell_type": "markdown",
   "metadata": {},
   "source": [
    "# 3. Business intelligence structures and stages\n",
    "\n",
    "### Business Intelligence vs Data Analytics\n",
    "\n",
    "**Similiarties**\n",
    "- Both enable data-driven decision-making in an organization.\n",
    "- Bothe complement and rely in each other.\n",
    "- Together they help their organizations advance on the **data maturity** scale every day.\n",
    "\n",
    "**Data maturity :** The extent to which an organization is able to effectively use its data in order to extract actionable insights (putting data to work)\n",
    "\n",
    "\n",
    "BI analysts:\n",
    "\n",
    "- Expert tool builders\n",
    "- Create dashboards with clear snapshots of the current state.\n",
    "- These tools must be impactful and easy to interpret ( even for not technical people)\n",
    "- Experts in data infraestructure\n",
    "- Typically more involved with building data-reporting tools and dashboards, establishing repeatable methods for monitoring data, and  working on large-scale projects that are helpful to multiple stakeholders. \n",
    "\n",
    "Data analysts:\n",
    "- Apply these tools to answer question"
   ]
  },
  {
   "cell_type": "markdown",
   "metadata": {},
   "source": [
    "| Data tasks | DA |BI |\n",
    "| -------- | ------- |------- |\n",
    "| Involvement  |The first step of the data analysis cycle is to define the business problem and establish stakeholder expectations. |In addition to defining business problems and asking questions to establish expectations, BI professionals observe current processes to determine how they can be improved to align more with stakeholder needs. |\n",
    "| Answering questions | Data analysts are often tasked with deciding what data they need to answer their stakeholders’ questions and gathering that data for use.     |BI professionals evaluate the data needs of their stakeholders, identify necessary sources, and design pipeline systems that automatically and continuously gather that data for stakeholders to access. |\n",
    "| Gathering data    | Once data has been gathered, data analysts must ensure that it is clean and ready for use. They also perform transformations on the data to prepare it for analysis.   |BI professionals build tools that clean and transform data automatically within a pipeline so that these processes occur to all data being ingested by the pipeline process. |\n",
    "| Storage systems    | Data analysts must adhere to organization conventions and store historical data for analysis.    |BI professionals develop storage systems that allow intake from multiple source systems into a destination database, while governing the database schema and optimizing the system. |\n",
    "| Descriptive and predictive analytics    | Data analysis focuses on descriptive analysis that describes historical trends.    |BI uses analysis of historical trends to perform predictive analytics that enable organizations to determine likely future trends and act accordingly. |\n",
    "| Presenting insights    |After analysis, data analysts present their findings to inform the stakeholders’ ultimate decision.    |BI analysts create tables, reports, and dashboards that empower stakeholders with access to the data they need to inform their whole decision-making process.|\n",
    "| Iteration    | After the initial analysis, data analysts may repeat their analysis based on their findings or new information.    |BI analysts continue to iterate on processes to improve and optimize the systems and tools they have built to ensure they continue to be useful for stakeholders. |\n",
    "\n",
    "\n",
    "DA and BI share a lot of common ground: They are both fields in which professionals use data to create insights that inform decision-making. But BI is more focused on **creating processes and information channels** that transform relevant data into actionable insights that are easily available to decision-makers on a continual basis."
   ]
  },
  {
   "cell_type": "markdown",
   "metadata": {},
   "source": [
    "### Data life cycle\n",
    "\n",
    "The sequence of stages that data experiences, which include plan, capture, manage, analyze, archive, and destroy"
   ]
  },
  {
   "cell_type": "markdown",
   "metadata": {},
   "source": [
    "### Data analysis process\n",
    "\n",
    "The six phases of ask, prepare, process, analyze, share and act.\n",
    "\n",
    "**Data analysis:** draw conclusiones, make predictions, and drive informed decision-making"
   ]
  },
  {
   "cell_type": "markdown",
   "metadata": {},
   "source": [
    "**The stages of business intelligence:**\n",
    "\n",
    "1. **Capture:** What happen?\n",
    "- Produces a record of static, backward-looking data.\n",
    "2. **Analyze:** Why did it happen?\n",
    "- Connects data elements and defines their relationships.\n",
    "3. **Monitor:** What´s happening now?\n",
    "- Identifies current opportunities and issues so they can be acted upon right away."
   ]
  },
  {
   "cell_type": "code",
   "execution_count": null,
   "metadata": {},
   "outputs": [],
   "source": []
  }
 ],
 "metadata": {
  "language_info": {
   "name": "python"
  },
  "orig_nbformat": 4
 },
 "nbformat": 4,
 "nbformat_minor": 2
}
