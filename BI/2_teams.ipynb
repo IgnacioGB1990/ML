{
 "cells": [
  {
   "cell_type": "markdown",
   "metadata": {},
   "source": [
    "# Business intelligence teams and partners\n",
    "\n",
    "\n",
    "There are many different partners a business intelligence professional might team up with to create systems and tools for an organization to improve processes and provide stakeholders with ongoing insights. These partners could include:\n",
    "\n",
    "- **API Professional**\n",
    "\n",
    "A set of functions and procedures that integrate computer programs, forming a connection that enables them to communicate.\n",
    "\n",
    "\n",
    "\n",
    "- **Data warehousing specialists**\n",
    "\n",
    "People who develop processes and procedures to effectively store and organize data.\n",
    "\n",
    "- **Data governance professionals**\n",
    "\n",
    "People who are responsible for the formal management of an organization´s data assets.\n",
    "\n",
    "- **Data analyst**\n",
    "\n",
    "People who collect, transform and organize data\n",
    "\n",
    "- **Information technology professionals (IT)**\n",
    "\n",
    "People who test, install, repair, upgrade, and mantain hardware and sofware solutions\n",
    "\n",
    "- **Project managers**\n",
    "\n",
    "People who handle the day-to-day project steps, scope, schedule, budget and resources\n",
    "\n",
    "\n",
    "### Roles\n",
    "\n",
    "**BI Analysts:**\n",
    "\n",
    "- Gather requirements\n",
    "- Retrieve, organize and interpret data\n",
    "- Create visualizations, dashboards and reports\n",
    "- Present and communicate insights\n",
    "- Gather requirements from stakeholders, partners, and team members. They use their understanding of large datasets to retrieve, organize, and interpret data. \n",
    "\n",
    "**BI Engineers:**\n",
    "- Design, configure, implement, and improve data tools and processes\n",
    "- Evaluate and streamline devies, infraestructures and pipelines.\n",
    "- Troubleshoot\n",
    "- Evaluate and streamline devices, infrastructures, and information channels.\n"
   ]
  },
  {
   "cell_type": "code",
   "execution_count": null,
   "metadata": {},
   "outputs": [],
   "source": []
  }
 ],
 "metadata": {
  "language_info": {
   "name": "python"
  },
  "orig_nbformat": 4
 },
 "nbformat": 4,
 "nbformat_minor": 2
}
