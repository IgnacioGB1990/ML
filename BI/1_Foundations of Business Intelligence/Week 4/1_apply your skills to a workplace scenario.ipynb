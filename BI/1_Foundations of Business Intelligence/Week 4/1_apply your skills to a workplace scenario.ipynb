{
 "cells": [
  {
   "cell_type": "markdown",
   "metadata": {},
   "source": [
    "**Experiential learning:** Understaning through doing\n",
    "\n",
    "**Transferable skill:** A capability or proficiency that can be applied from one job to another."
   ]
  },
  {
   "cell_type": "markdown",
   "metadata": {},
   "source": [
    "## Design effective executive summaries\n",
    "\n",
    "Business intelligence professionals need ways to share and communicate plans, updates, and summaries about projects. A common document called an executive summary is used to update decision makers who may not be directly involved in the tasks of a project. In your role as a BI professional, you will often be involved in creating executive summaries. \n",
    "\n",
    "Additionally, an executive summary can be a useful way to describe your end-of-course project to potential employers. This document can give interviewers exploring your portfolio an easy-to-understand explanation of your projects and be a useful way to reference your projects during the actual interview. \n",
    "\n",
    "In this reading, you will learn more about executive summaries and how to prepare them for stakeholders. At the end of your project, you will fill out an executive summary about the work you completed– so it will be useful to start thinking about how to approach that document now. \n",
    "\n",
    "### Executive summaries\n",
    "Executive summaries are documents that collect the most important points contained in a longer plan or report. These summaries are common across a wide variety of businesses, giving decision makers a brief overview of the most relevant information. They can also be used to help new team members become acquainted with the details of a project quickly. The format is designed to respect the responsibilities of decision makers and/or executives who may not have time to read and understand an entire report. There are many ways to present information within an executive summary, including software options built specifically for that purpose. In this program, you will be focusing primarily on a one page format within a presentation slide. Regardless of how they are created, there are some items that are commonly included.\n",
    "\n",
    "Elements of an executive summary\n",
    "The provided sample executive summary deals with an imagined wildfire predictability project. The intended audience of this summary is a group of decision makers from many different departments within teams that service a variety of parks. The purpose of this summary is to share the insights gained through data analysis of wildfires in the US. Each section delivers a short statement without embellishment. This allows decision makers who are often short on time the ability to quickly grasp the most relevant points about a project. Reference this document as you review each of the following sections.\n",
    "\n",
    "Below you will find a sample executive summary for an imagined project on wildfire predictability. \n",
    "\n",
    "\n",
    "**Project title:** A project's theme is incorporated into the executive summary title to create an immediate connection with the target audience.\n",
    "\n",
    "**The problem:** A statement that focuses on the need or concern being targeted or addressed by the project. Note, also, that the problem can also be referred to as the hypothesis that you’re trying to prove through analysis. \n",
    "\n",
    "**The solution:** This statement summarizes a project’s main goal. In this section, actions are described that are intended to address the concerns outlined in the problem statement.\n",
    "\n",
    "**Details/Key insights:** The purpose of this section is to provide any additional background and information that may assist the target audience in understanding the project's objectives. Determining what details to include depends heavily on the intended audience. It may also be the case that you choose to include some project reflections. \n",
    "\n",
    "### Key takeaways\n",
    "Executive summaries are important ways to share information with decision makers, clients, and executives. These documents include a summarized version of the most important information within a project or plan of action. The executive summary is usually broader in scope, not focusing on specific responsibilities or tasks. The executive summary summarizes the status of a project and its discoveries, describing a problem and proposing a solution."
   ]
  },
  {
   "cell_type": "markdown",
   "metadata": {},
   "source": []
  },
  {
   "cell_type": "code",
   "execution_count": null,
   "metadata": {},
   "outputs": [],
   "source": []
  }
 ],
 "metadata": {
  "language_info": {
   "name": "python"
  },
  "orig_nbformat": 4
 },
 "nbformat": 4,
 "nbformat_minor": 2
}
