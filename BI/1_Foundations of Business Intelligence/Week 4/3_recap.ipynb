{
 "cells": [
  {
   "cell_type": "markdown",
   "metadata": {},
   "source": [
    "### Stakeholder Requirements Document\n",
    "\n",
    "Use your meeting notes to fill out as much of the project requirements document template as you can. If you find that there are some fields that you can’t fill out, make note of them for later in the exercise.\n",
    "\n",
    "The Stakeholder Requirements Document enables you to capture stakeholder requests and requirements so you understand their needs before planning the rest of the project details or strategy. It should answer the following questions:\n",
    "\n",
    "Business problem: What is the primary question to be answered or problem to be solved?\n",
    "\n",
    "Stakeholders: Who are the major stakeholders of this project, and what are their job titles? \n",
    "\n",
    "Stakeholder usage details: How will the stakeholders use the BI tool?\n",
    "\n",
    "Primary requirements: What requirements must be met by this BI tool in order for this project to be successful? \n",
    "\n",
    "Here are some questions BI professionals ask to successfully complete this document:\n",
    "\n",
    "What questions must be answered before starting this project? \n",
    "\n",
    "What does the BI team need to know before starting this project? \n",
    "\n",
    "What are the questions that must be answered or problems that must be solved by this project?\n",
    "\n",
    "What datasets are considered important to this project?\n",
    "\n",
    "Who should have access to the dashboard? Will the entire dashboard be visible to all stakeholders?\n",
    "\n",
    "Typically, the Stakeholder Requirements Document is a one-pager with notes, but it can be longer and more detailed for complex projects. "
   ]
  },
  {
   "cell_type": "markdown",
   "metadata": {},
   "source": [
    "### Project Requirements Document\n",
    "\n",
    "Use your meeting notes to fill out as much of the project requirements document template as you can. If you find that there are some fields that you can’t fill out, make note of them for later in the exercise.\n",
    "\n",
    "The Project Requirements Document contains the following details:\n",
    "\n",
    "- Purpose: Briefly describe why this project is happening and explain why the company should invest its resources in it.\n",
    "\n",
    "- Key dependencies: Detail the major elements of this project. Include the team, primary contacts, and expected deliverables. Are there any inter-team deliverables required? \n",
    "\n",
    "- Stakeholder requirements: List the established stakeholder requirements, based on the Stakeholder Requirements Document. Prioritize the requirements as: R - required, D - desired, or N - nice to have.\n",
    "\n",
    "- Success criteria: Clarify what success looks like for this project. Include explicit statements about how to measure success. Use SMART criteria. \n",
    "\n",
    "- User journeys: Document the current user experience and the ideal future experience. \n",
    "\n",
    "- Assumptions: Explicitly and clearly state any assumptions you are making. \n",
    "\n",
    "- Compliance and privacy: Include compliance, privacy, or legal dimensions to consider. \n",
    "\n",
    "- Accessibility: List key considerations for creating accessible reports for all users. Who needs to access this feature? How are they viewing and interacting with it? \n",
    "\n",
    "- Roll-out plan: Briefly describe the expected scope, priorities and timeline. Consider at what points during the rollout will measurements be made to determine whether the feature is performing as expected? Is there a rollback plan and timeline if this feature does not meet its intended goals?"
   ]
  },
  {
   "cell_type": "markdown",
   "metadata": {},
   "source": [
    "### Complete the Strategy Document\n",
    "\n",
    "Use your meeting notes to fill out as much of the strategy document template as you can. If you find that there are some fields that you can’t fill out, make note of them for later in the exercise.\n",
    "\n",
    "The Strategy Document is a collaborative place to align with stakeholders about project deliverables. You will work together to establish information about dashboard functionality and associated metrics and charts.\n",
    "\n",
    "This is a time to explore what metrics will be required, how metrics are calculated, and any limitations or assumptions that exist about the data. Stakeholders think through these details and help the BI professional make final project decisions. Then, the BI professional provides stakeholders with a dashboard mockup to get useful feedback. \n",
    "\n",
    "Generally, the BI professional will create the document, then request review and sign-off from stakeholders. Then, they can begin working on the project with all of the details they need. "
   ]
  },
  {
   "cell_type": "markdown",
   "metadata": {},
   "source": [
    "### Write follow-up questions for your client\n",
    "By now, you’ve filled out each of the templates with information from the interview. But you might have noticed that you’re missing some information for fields in the template. In a professional setting, you might need to ask a stakeholder follow-up questions to properly complete planning documents.\n",
    "\n",
    "Write 3-5 questions about information that is missing from the interview notes. In a professional setting, you could ask these questions to your stakeholder to help you fully complete your documents."
   ]
  },
  {
   "cell_type": "code",
   "execution_count": null,
   "metadata": {},
   "outputs": [],
   "source": []
  }
 ],
 "metadata": {
  "language_info": {
   "name": "python"
  },
  "orig_nbformat": 4
 },
 "nbformat": 4,
 "nbformat_minor": 2
}
