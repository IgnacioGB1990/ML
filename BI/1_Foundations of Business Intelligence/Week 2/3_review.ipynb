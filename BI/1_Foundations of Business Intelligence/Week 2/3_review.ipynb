{
 "cells": [
  {
   "cell_type": "markdown",
   "metadata": {},
   "source": [
    "### Stakeholders\n",
    "\n",
    "People that have invested time, interest, and resources into the projects you'll be working on as a data analyst\n",
    "\n",
    "\n",
    "**Turnonver rate :** the rate at which employees leave a company.\n",
    "\n",
    "Shared patterns across the employees that quit + The connection to employee productivity and engagement"
   ]
  },
  {
   "cell_type": "markdown",
   "metadata": {},
   "source": [
    "### Remember to ask effective questions:\n",
    "\n",
    "**Leading questions:** These are the best sandwiches I have ever tried aren´t they?\n",
    "**Closed-ended question:** Did you enjoy growing up in Malaysia? Yes or No\n",
    "**Questions that are too vague and lack context:** Do you prefer chocolate or vanilla? Where? In coffe? Cake? ...?\n",
    "\n",
    "The data analyst process starts with the Ask face:\n",
    "\n",
    "Ask\n",
    "Prepare\n",
    "Process\n",
    "Analayze\n",
    "Share\n",
    "Act\n",
    "\n",
    "Effective questions follow the SMART methodology\n",
    "\n",
    "**S** pecific\n",
    "**M** easurable\n",
    "**A** ction-oriented\n",
    "**R** elevant\n",
    "**T** ime-bound\n",
    "\n",
    "\n",
    "**1. Specific** questions are simple, significant, and focused on a single topic or a few closely related ideas.\n",
    "\n",
    "\n",
    "❌ WRONG\n",
    "\"Are kids getting enough exercise these days?\"\n",
    "\n",
    "✅ CORRECT\n",
    "\"What percentage of kids achieve the recommended 60 minutes of physical activity at least five days a week?\"\n",
    "\n",
    "\n",
    "**2. Measurable** questions can be quantified and assessed.\n",
    "\n",
    "❌ WRONG\n",
    "\"Why did our recent video go viral?\"\n",
    "\n",
    "✅ CORRECT\n",
    "\"How many times was our video shared on social channels the first week it was posted?\"\n",
    "\n",
    "\n",
    "**3. Action-oriented** questions encourage change.\n",
    "\n",
    "❌ WRONG\n",
    "\"How can we get customers to recycle our product packaging?\"\n",
    "\n",
    "✅ CORRECT\n",
    "\"What design features will make our packaging easier to recycle?\"\n",
    "\n",
    "\n",
    "**4. Relevant** questions matter, are important, and have significance to the problem you're trying to solve.\n",
    "\n",
    "❌ WRONG\n",
    "\"Why does it matter that Pine Barrens tree frogs started disappearing?\"\n",
    "\n",
    "✅ CORRECT\n",
    "\"What environmental factors changed in Durham, North Carolina, **between 1983 and 2004** that could cause Pine Barrens tree frogs to disappear from the Sandills Regions?\"\n",
    "\n",
    "**5. Time-bound** questions speficy the time to be studied.\n",
    "\n",
    "From the question above it would be the date interval\n",
    "\n",
    "\n"
   ]
  },
  {
   "cell_type": "markdown",
   "metadata": {},
   "source": [
    "**Fairness:**\n",
    "Ensuring that your questions don´t create or reinforce bias\n",
    "\n",
    "\n",
    "**Bias:**\n",
    "A preference in favor of or against a person, group of people, or thing\n",
    "\n",
    "**Data bias:**\n",
    "A type of error that systematically skews results in a certain direction"
   ]
  },
  {
   "cell_type": "markdown",
   "metadata": {},
   "source": []
  },
  {
   "cell_type": "markdown",
   "metadata": {},
   "source": []
  },
  {
   "cell_type": "markdown",
   "metadata": {},
   "source": []
  },
  {
   "cell_type": "code",
   "execution_count": null,
   "metadata": {},
   "outputs": [],
   "source": []
  }
 ],
 "metadata": {
  "language_info": {
   "name": "python"
  },
  "orig_nbformat": 4
 },
 "nbformat": 4,
 "nbformat_minor": 2
}
