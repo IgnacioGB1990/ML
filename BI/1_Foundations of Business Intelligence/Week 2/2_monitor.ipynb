{
 "cells": [
  {
   "cell_type": "markdown",
   "metadata": {},
   "source": [
    "## Monitor in the moment"
   ]
  },
  {
   "cell_type": "markdown",
   "metadata": {},
   "source": [
    "**Metric**: a single, quantifiable data point that is used to evaluate performance\n",
    "\n",
    "In BI most importante metrics are KPI:\n",
    "\n",
    "**Key Performance indicator (KPI):**\n",
    "A quantifiable value, closely linked to business strategy, which is used to track progress toward a goal\n",
    "\n",
    "Metrics and KPI are no the same:\n",
    "\n",
    "- Metrics support KPIs\n",
    "- KPIs support overall business objectives\n",
    "- KPIs are strategic / Metrics are tactical\n",
    "\n",
    "**Strategy:** a plan for achieving a goal or arriving at a desired future state\n",
    "\n",
    "**Tactic:** a method used to enable an accomplishment\n",
    "\n",
    "**BI monitoring:** building and using hardware and software tools to easily and rapidly analyze data and enable stakeholders to make impactful business decisions"
   ]
  },
  {
   "cell_type": "markdown",
   "metadata": {},
   "source": [
    "### Professional relationship building\n",
    "\n",
    "- Follow organizations and business leaders\n",
    "- Search for BI webinars\n",
    "- Visit blogs\n",
    "\n",
    "\n",
    "**Mentor:** Someone who shares knowledge, skills, and experience to help another grow both professionally and personally"
   ]
  },
  {
   "cell_type": "markdown",
   "metadata": {},
   "source": [
    "**Applications software developer:** A person who designs computer or mobile applications, generally for consumers\n",
    "\n",
    "**Business intelligence monitoring:** Building and using hardware and software tools to easily and rapidly analyze data and enable stakeholders to make impactful business decisions\n",
    "\n",
    "**Deliverable:** Any product, service, or result that must be achieved in order to complete a project\n",
    "\n",
    "**Developer:** A person who uses programming languages to create, execute, test, and troubleshoot software applications\n",
    "\n",
    "**Metric:** A single, quantifiable data point that is used to evaluate performance\n",
    "\n",
    "**Project sponsor:** A person who has overall accountability for a project and establishes the criteria for its success\n",
    "\n",
    "**Strategy:** A plan for achieving a goal or arriving at a desired future state\n",
    "\n",
    "**Systems analyst:** A person who identifies ways to design, implement, and advance information systems in order to ensure that they help make it possible to achieve business goals\n",
    "\n",
    "**Systems software developer:** A person who develops applications and programs for the backend processing systems used in organizations\n",
    "\n",
    "**Tactic:** A method used to enable an accomplishment\n",
    "\n",
    "Terms and their definitions from previous modules\n",
    "\n",
    "### A\n",
    "**Application programming interface (API):** A set of functions and procedures that integrate computer programs, forming a connection that enables them to communicate \n",
    "\n",
    "### B\n",
    "**Business intelligence (BI):** Automating processes and information channels in order to transform relevant data into actionable insights that are easily available to decision-makers\n",
    "\n",
    "**Business intelligence governance:** A process for defining and implementing business intelligence systems and frameworks within an organization\n",
    "\n",
    "**Business intelligence stages:** The sequence of stages that determine both BI business value and organizational data maturity, which are capture, analyze, and monitor\n",
    "\n",
    "**Business intelligence strategy:** The management of the people, processes, and tools used in the business intelligence process\n",
    "\n",
    "### D\n",
    "**Data analysts:** People who collect, transform, and organize data\n",
    "\n",
    "**Data governance professionals:** People who are responsible for the formal management of an organization’s data assets\n",
    "\n",
    "**Data maturity:** The extent to which an organization is able to effectively use its data in order to extract actionable insights\n",
    "\n",
    "**Data model:** A tool for organizing data elements and how they relate to one another\n",
    "\n",
    "**Data pipeline:** A series of processes that transports data from different sources to their final destination for storage and analysis\n",
    "\n",
    "**Data warehousing specialists:** People who develop processes and procedures to effectively store and organize data\n",
    "\n",
    "### E\n",
    "**ETL (extract, transform, and load):** A type of data pipeline that enables data to be gathered from source systems, converted into a useful format, and brought into a data warehouse or other unified destination system\n",
    "\n",
    "### I\n",
    "**Information technology professionals:** People who test, install, repair, upgrade, and maintain hardware and software solutions\n",
    "\n",
    "**Iteration:** Repeating a procedure over and over again in order to keep getting closer to the desired result\n",
    "\n",
    "### K\n",
    "**Key performance indicator (KPI):** A quantifiable value, closely linked to business strategy, which is used to track progress toward a goal\n",
    "\n",
    "### P\n",
    "**Portfolio:** A collection of materials that can be shared with potential employers\n",
    "\n",
    "**Project manager:** A person who handles a project’s day-to-day steps, scope, schedule, budget, and resources"
   ]
  },
  {
   "cell_type": "code",
   "execution_count": null,
   "metadata": {},
   "outputs": [],
   "source": []
  },
  {
   "cell_type": "markdown",
   "metadata": {},
   "source": []
  },
  {
   "cell_type": "markdown",
   "metadata": {},
   "source": []
  },
  {
   "cell_type": "code",
   "execution_count": null,
   "metadata": {},
   "outputs": [],
   "source": []
  }
 ],
 "metadata": {
  "language_info": {
   "name": "python"
  },
  "orig_nbformat": 4
 },
 "nbformat": 4,
 "nbformat_minor": 2
}
