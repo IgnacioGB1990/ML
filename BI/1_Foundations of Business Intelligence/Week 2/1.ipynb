{
 "cells": [
  {
   "cell_type": "markdown",
   "metadata": {},
   "source": [
    " ## What you'll learn\n",
    "\n",
    "- Collaborating with stakeholders\n",
    "- Rapid monitoring\n",
    "- Key metrics\n",
    "- Career resources"
   ]
  },
  {
   "cell_type": "markdown",
   "metadata": {},
   "source": [
    "### Business intelligence stakeholders\n",
    "\n",
    "**Stakeholders:** Somenone who invests time and resources into a project and is interested in its outcome. (sometimes referred to client/user)\n",
    "\n",
    "\n",
    "**Four different types of stakeholders you might encounter** as a business intelligence professional: \n",
    "\n",
    "**1. Project sponsor:** A person who provides support and resources for a project and is accountable for enabling its success.\n",
    "\n",
    "**2. Developer:** A person who uses programming languages to create, execute, test, and troubleshoot software applications. This includes application software developers and systems software developers.\n",
    "\n",
    "**3. Systems analyst:** A person who identifies ways to design, implement, and advance information systems in order to ensure that they help make it possible to achieve business goals.\n",
    "\n",
    "**4. Business stakeholders:** Business stakeholders can include one or more of the following groups of people: \n",
    "\n",
    "-   **The executive team:** The executive team provides strategic and operational leadership to the company. They set goals, develop strategy, and make sure that strategy is executed effectively. The executive team might include vice presidents, the chief marketing officer, and senior-level professionals who help plan and direct the company’s work. \n",
    "\n",
    "- **The customer-facing team:** The customer-facing team includes anyone in an organization who has some level of interaction with customers and potential customers. Typically they compile information, set expectations, and communicate customer feedback to other parts of the internal organization. \n",
    "\n",
    "- **The data science team:** The data science team explores the data that’s already out there and finds patterns and insights that data scientists can use to uncover future trends with machine learning. This includes data analysts, data scientists, and data engineers. \n",
    "\n",
    "\n",
    "**Application software developer** a person who designs computer or mobile applications, generally for consumers\n",
    "\n",
    "**Systems software developer** a person who develops applications and programs for the backend processing systems used in organizations\n",
    "\n",
    "\n",
    "The key is to always communicate proactively and prioritize teamwork."
   ]
  },
  {
   "cell_type": "markdown",
   "metadata": {},
   "source": [
    "### Communication strategies\n",
    "\n",
    "Three key strategies for communication: \n",
    "\n",
    "1. Ask the right questions.\n",
    "    - Effective questioning:\n",
    "      - Understanding the difference between effective and ineffective questions\n",
    "      - Knowing what types of questions lead to the best insights\n",
    "      - Using questioning to confirm that you fully understand stakeholder expectations\n",
    "\n",
    "\n",
    "2. Define project deliverables ( any product, service or outcome that must be achieved in order to complete a project)\n",
    "\n",
    "3. Effectively share business intelligence\n",
    "  - **Bias:** a conscious or subconsious preference in favor of or against a person, group of people, or thing\n",
    "  -**Fairness:** a quality of data analysis that does not create or reinforce bias\n",
    "\n",
    "\n"
   ]
  },
  {
   "cell_type": "markdown",
   "metadata": {},
   "source": [
    "- **WHO** collected the data?\n",
    "\n",
    "- **WHAT** is it about? What does the data represent in the world and how does it relate to other data? \n",
    "\n",
    "- **WHEN** was the data collected? \n",
    "\n",
    "- **WHERE** did the data come from?\n",
    "\n",
    "- **HOW** was it collected? And how was it transformed for the destination? \n",
    "\n",
    "- **WHY** was this data collected? Why is it useful or relevant to the business task?"
   ]
  },
  {
   "cell_type": "markdown",
   "metadata": {},
   "source": []
  },
  {
   "cell_type": "markdown",
   "metadata": {},
   "source": []
  },
  {
   "cell_type": "code",
   "execution_count": null,
   "metadata": {},
   "outputs": [],
   "source": []
  },
  {
   "cell_type": "code",
   "execution_count": null,
   "metadata": {},
   "outputs": [],
   "source": []
  }
 ],
 "metadata": {
  "language_info": {
   "name": "python"
  },
  "orig_nbformat": 4
 },
 "nbformat": 4,
 "nbformat_minor": 2
}
