{
 "cells": [
  {
   "cell_type": "markdown",
   "metadata": {},
   "source": [
    "# Stages of Data Analysis Process\n",
    "\n",
    "1. **Ask:** Define problem and understand stakeholder expectations.\n",
    "\n",
    "**Problem**: Look at the current state and identify how it´s different from the ideal state. Usually an obstacle that needs to get rid off our a something wrong that needs to be fixed.\n",
    "\n",
    "**Stakeholders:** People who have invested time and resources into a project and are interested in the outcome.\n",
    "\n",
    "We should first determine who the stakeholders are\n",
    "\n",
    "2. **Prepare**\n",
    "\n",
    "Data analysts collect and store data they will use for the upcoming analysis process.\n",
    "\n",
    "3. **Process:** Data analysts find and eliminate errors and innacuracy's that can get in the way of results. Cleaning data, tranforming it into useful format, combining two or more datasets to make information more complete and removing outliers.\n",
    "4. **Analyze:** Use tools to transform and organize that information so that you can draw useful conclusions, make predictions, and drive informed decision making.\n",
    "5. **Share:** Visualization of data.\n",
    "6. **Act:** When the business takes all of the insights the data analysts have provided and puts them to work. In order to solve the original business problem.\n",
    "\n",
    "\n"
   ]
  },
  {
   "cell_type": "markdown",
   "metadata": {},
   "source": [
    " ## 5 essential skills of a Data Analyst\n",
    " \n",
    " **Analytical skills:** \n",
    " Qualities and characteristics associated with solving problems using facts.\n",
    "\n",
    " We will be focusing in:\n",
    "\n",
    " 1. Curiosity.\n",
    " 2. Understanding context.\n",
    " 3. Having a technical mindset.\n",
    " 4. Data design.\n",
    " 5. Data strategy.\n",
    "\n",
    " **Context:** The condition in which something exists or happens. It could be a structure or environment.\n",
    "\n",
    " **Technical mindset:** The ability to break things down into smaller steps or pieces and work with them in an orderly and logical way.\n",
    "\n",
    " **Data design:** How you organize information.\n",
    "\n",
    " **Data strategy**: The management of the people, processes and tools used in data analysis.\n"
   ]
  },
  {
   "cell_type": "markdown",
   "metadata": {},
   "source": [
    "Metadata and metadata repositories are very powerful tools in the Data Analyst Toolbox. As we discussed previously, data analysts use them to create a **single source of truth, keep data consistent and uniform, and ensure that the data we work with is accurate, precise, relevant, and timely.** These tools also make it easier to access and use data by **standardizing** our processes.\n",
    "\n",
    "\n",
    "**Metadata:** Stored in a single, central location, and gives the company standardized information about all of its data.\n",
    "\n",
    "**Data governance**: A process to ensure the formal management of a company's data assets."
   ]
  },
  {
   "cell_type": "markdown",
   "metadata": {},
   "source": []
  },
  {
   "cell_type": "code",
   "execution_count": null,
   "metadata": {},
   "outputs": [],
   "source": [
    "#"
   ]
  }
 ],
 "metadata": {
  "language_info": {
   "name": "python"
  },
  "orig_nbformat": 4
 },
 "nbformat": 4,
 "nbformat_minor": 2
}
