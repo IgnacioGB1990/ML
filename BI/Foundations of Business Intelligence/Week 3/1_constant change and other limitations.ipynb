{
 "cells": [
  {
   "cell_type": "markdown",
   "metadata": {},
   "source": [
    "**Context**\n",
    "\n",
    "The condition in which something exists or happens\n",
    "Helps eliminate the risk of misinterpretation."
   ]
  },
  {
   "cell_type": "markdown",
   "metadata": {},
   "source": [
    "**Data availability**\n",
    "\n",
    "The degree or extent to which timely and relevant information is readily accessible and able to be put to use.\n",
    "\n",
    "\n",
    "**Data availability factors:**\n",
    "\n",
    "- Data integrity: The accuracy, completeness, consistency, and trustworthiness of data throughout its life cycle.\n",
    "\n",
    "- Data visibility: The degree or extent to which information can be identified, monitored, and integrated from disparate internal and external sources.\n",
    "\n",
    "- Update frequency: How often disparate data sources are being refreshed with new information.\n",
    "\n",
    "- Change: The process of altering data, either through internal processes or external influence."
   ]
  },
  {
   "cell_type": "markdown",
   "metadata": {},
   "source": [
    "**Data ethics** refers to well-founded standards of right and wrong that dictate how data is collected, shared, and used.\n",
    "\n",
    "Throughout your career you will work with a lot of data. This sometimes includes PII, or **personally identifiable information**, which can be used by itself or with other data to track down a person's identity. One element of treating that data ethically is ensuring that the privacy and security of that data is maintained throughout its lifetime."
   ]
  },
  {
   "cell_type": "markdown",
   "metadata": {},
   "source": [
    "**Privacy matters**\n",
    "Data privacy means preserving a data subject’s information and activity any time a data transaction occurs. This is also called information privacy or data protection. Data privacy is concerned with the access, use, and collection of personal data. For the people whose data is being collected, this means they have the right to:\n",
    "\n",
    "- Protection from unauthorized access to their private data\n",
    "\n",
    "- Freedom from inappropriate use of their data\n",
    "\n",
    "- The right to inspect, update, or correct their data\n",
    "\n",
    "- Ability to give consent to data collection\n",
    "\n",
    "- Legal right to access the data\n",
    "\n",
    "In order to maintain these rights, businesses and organizations have to put privacy measures in place to protect individuals’ data. This is also a matter of trust. The public’s ability to trust companies with personal data is important. It’s what makes people want to use a company’s product, share their information, and more. Trust is a really big responsibility that can’t be taken lightly."
   ]
  },
  {
   "cell_type": "markdown",
   "metadata": {},
   "source": [
    "**Protecting privacy with data anonymization**\n",
    "\n",
    "Organizations use a lot of different measures to protect the privacy of their data subjects, like incorporating access permissions to ensure that only the people who are supposed to access that information can do so. Another key strategy to maintaining privacy is data anonymization.\n",
    "\n",
    "Data anonymization is the process of protecting people's private or sensitive data by eliminating PII. Typically, data anonymization involves blanking, hashing, or masking personal information, often by using fixed-length codes to represent data columns, or hiding data with altered values.\n",
    "\n",
    "Data anonymization is used in just about every industry. As a BI professional, you probably won’t personally be performing anonymization, but it’s useful to understand what kinds of data are often anonymized before you start working with it. This data might include: \n",
    "\n",
    "- Telephone numbers\n",
    "\n",
    "- Names\n",
    "\n",
    "- License plates and license numbers\n",
    "\n",
    "- Social security numbers\n",
    "\n",
    "- IP addresses\n",
    "\n",
    "- Medical records\n",
    "\n",
    "- Email addresses\n",
    "\n",
    "- Photographs\n",
    "\n",
    "- Account numbers\n",
    "\n",
    "Imagine a world where we all had access to each other’s addresses, account numbers, and other identifiable information. That would invade a lot of people’s privacy and make the world less safe. Data anonymization is one of the ways we can keep data private and secure!"
   ]
  },
  {
   "cell_type": "markdown",
   "metadata": {},
   "source": [
    "### Anticipate data limitations\n",
    "\n",
    "\n",
    "**Missing data**\n",
    "\n",
    "If you have incomplete or nonexistent data, you might not have enough data to reach a conclusion. Or, you might even be exploring data about a totally different business problem! Understanding what data is available, identifying potential other sources, and filling in the gaps is an important part of the BI process.\n",
    "\n",
    "**Misaligned data**\n",
    "\n",
    "As a BI professional, you will often use data from different sources. Some of these might be internal sources to the business you’re working with, but they might also include external sources. These sources might define and measure things in completely different ways. In cases like these, establishing how to measure things early on standardizes the data across the board for greater reliability and accuracy. This will make sure comparisons between sources are meaningful and insightful."
   ]
  },
  {
   "cell_type": "markdown",
   "metadata": {},
   "source": [
    "**Dirty data**\n",
    "\n",
    "Dirty data refers to data that contains errors. Dirty data can cause errors in your system, inaccurate reports, and poor decision-making. Implementing processes for cleaning data by fixing or removing incorrect, corrupted, incorrectly formatted, duplicate, or incomplete data within a dataset is one way you can prepare for this limitation."
   ]
  },
  {
   "cell_type": "markdown",
   "metadata": {},
   "source": [
    "### Types of bias in business intelligence\n",
    "\n",
    "- Confirmation bias: occurs when an analyst is either exploring or trying to interpret data to confirm with their prior beliefs.\n",
    "- Selection bias: can occur when we are dealing with samples which are not representative of the entire population.\n",
    "- Historical data bias: happens when sociocultural prejudices and beliefs are mirrored into systematic processes\n",
    "- Outlier bias: Averages are a great way to hide anomalies and outliers while skewing our observation. Data integrity practices are very important to avoid bias in data. \n",
    "\n",
    "### Tips for addressing bias\n",
    "\n",
    "- Record prior beliefs and assumptions\n",
    "- Use a randomized set of data\n",
    "- Gather more data and research about the opposing hypothesis\n",
    "- Be cognizant of outliers"
   ]
  },
  {
   "cell_type": "markdown",
   "metadata": {},
   "source": []
  }
 ],
 "metadata": {
  "language_info": {
   "name": "python"
  },
  "orig_nbformat": 4
 },
 "nbformat": 4,
 "nbformat_minor": 2
}
