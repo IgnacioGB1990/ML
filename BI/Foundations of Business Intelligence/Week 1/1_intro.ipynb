{
 "cells": [
  {
   "cell_type": "markdown",
   "metadata": {},
   "source": [
    "## Business Intelligence\n",
    "\n",
    "Automatin processes and information channels in order to transform relevant data into actionable insights that are easily available to decision-makers"
   ]
  },
  {
   "cell_type": "markdown",
   "metadata": {},
   "source": [
    "### 1. Foundations of Business Intelligence\n",
    "\n",
    "What you will learn:\n",
    "\n",
    "- Business intelligence’s place in the data ecosystem and key distinctions between business intelligence and data analysis\n",
    "- Typical career paths and the industries that use business intelligence\n",
    "- Common roles and responsibilities of industry professionals\n",
    "- The stages of business intelligence, plus key terms and concepts\n",
    "- Strategies for ensuring metrics are relevant and effective\n",
    "- Successful business intelligence practices and processes\n",
    "\n",
    "**Skill sets you will build:**\n",
    "- Proven approaches to business intelligence projects\n",
    "- Identifying the uses and benefits of data models, pipelines, data visualizations, and dashboards\n",
    "- Collaboration with team members, stakeholders, and users, as well as an understanding of their roles and priorities\n",
    "- Planning processes for a successful project\n",
    "-Networking to tap into the business intelligence community\n",
    "- Demonstration of key knowledge and skills during a job search\n",
    "\n",
    "### 2. The Path to Insights: Data Models and Pipelines\n",
    "\n",
    "What you will learn:\n",
    "\n",
    "- Data’s function within an organization\n",
    "- Why structured data is essential to business intelligence\n",
    "- How data models can be used to organize database systems\n",
    "- The distinctions between creating and querying a data model\n",
    "- The role of data warehouses, data marts, and data lakes in business intelligence\n",
    "- Strategies for creating and maintaining processes that meet organizational and stakeholder needs\n",
    "- Skill sets you will build:\n",
    "- Applying data modeling to organize data elements and how they relate to one another\n",
    "- Retrieving data from a data source using pipelines, such as ETL\n",
    "- Transforming data into a usable format to answer specific business questions\n",
    "- Designing data pipelines that automate business intelligence processes\n",
    "- Using data modeling to design data storage systems, including data warehouses, data marts, and data lakes\n",
    "- Using actual data to create a business intelligence portfolio project\n",
    "\n",
    "### 3. Decisions, Decisions: Dashboards and Reports\n",
    "\n",
    "What you will learn:\n",
    "- How to gather requirements and use cases from stakeholders\n",
    "- Methods for communicating data insights to stakeholders in a way that drives insightful decision-making and the achievement of business objectives\n",
    "- The importance of regular communication and feedback\n",
    "- Data visualization and dashboard design principles\n",
    "- Why design choices should be based on stakeholder needs, taking into account accessibility\n",
    "- How to prepare for a career as a business intelligence professional\n",
    "\n",
    "Skill sets you will build:\n",
    "- Creating mockups to plan dashboards and facilitate feedback discussions\n",
    "- Building, maintaining, and refining dashboards\n",
    "- Including compelling data visualizations and dashboard insights in a presentation for stakeholders\n",
    "- Using dashboards to tell data-driven stories, answer questions, and solve problems\n",
    "- Creating an actual dashboard for a business intelligence portfolio project\n",
    "- Exploring job opportunities and applying best practices during a job search\n",
    "\n",
    "\n",
    "As you have been learning, a business’s ability to identify issues before they become problems or act on opportunities before their competition is key to intelligent decision-making. Now more than ever, we have access to data about our marketplace, organizations, customers, competitors, and employees. But in order to turn that **data into rapid results**, we need business intelligence. Business intelligence involves automating processes and information channels in order to transform relevant data into actionable insights that are easily available to decision-makers. \n",
    "\n",
    "\n",
    "\n",
    "**No matter what industry you’re working in, BI can automate processes and information channels to empower the people who need that data to answer questions and make decisions.**"
   ]
  }
 ],
 "metadata": {
  "language_info": {
   "name": "python"
  },
  "orig_nbformat": 4
 },
 "nbformat": 4,
 "nbformat_minor": 2
}
