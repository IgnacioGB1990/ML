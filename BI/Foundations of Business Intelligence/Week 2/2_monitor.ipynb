{
 "cells": [
  {
   "cell_type": "markdown",
   "metadata": {},
   "source": [
    "## Monitor in the moment"
   ]
  },
  {
   "cell_type": "markdown",
   "metadata": {},
   "source": [
    "**Metric**: a single, quantifiable data point that is used to evaluate performance\n",
    "\n",
    "In BI most importante metrics are KPI:\n",
    "\n",
    "**Key Performance indicator (KPI):**\n",
    "A quantifiable value, closely linked to business strategy, which is used to track progress toward a goal\n",
    "\n",
    "Metrics and KPI are no the same:\n",
    "\n",
    "- Metrics support KPIs\n",
    "- KPIs support overall business objectives\n",
    "- KPIs are strategic / Metrics are tactical\n",
    "\n",
    "**Strategy:** a plan for achieving a goal or arriving at a desired future state\n",
    "\n",
    "**Tactic:** a method used to enable an accomplishment\n",
    "\n",
    "**BI monitoring:** building and using hardware and software tools to easily and rapidly analyze data and enable stakeholders to make impactful business decisions"
   ]
  },
  {
   "cell_type": "code",
   "execution_count": null,
   "metadata": {},
   "outputs": [],
   "source": []
  },
  {
   "cell_type": "markdown",
   "metadata": {},
   "source": []
  },
  {
   "cell_type": "markdown",
   "metadata": {},
   "source": []
  },
  {
   "cell_type": "code",
   "execution_count": null,
   "metadata": {},
   "outputs": [],
   "source": []
  }
 ],
 "metadata": {
  "language_info": {
   "name": "python"
  },
  "orig_nbformat": 4
 },
 "nbformat": 4,
 "nbformat_minor": 2
}
